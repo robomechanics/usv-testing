{
 "cells": [
  {
   "cell_type": "code",
   "execution_count": null,
   "id": "9482082b",
   "metadata": {},
   "outputs": [],
   "source": [
    "import matplotlib.pyplot as plt\n",
    "import cyipopt as ipopt\n",
    "import numpy as np\n",
    "\n",
    "from vessel_models import VesselModel\n",
    "from controller import TrajOpt"
   ]
  },
  {
   "cell_type": "code",
   "execution_count": null,
   "id": "b73ba91b",
   "metadata": {},
   "outputs": [],
   "source": [
    "# Validating IPOPT\n",
    "from scipy.optimize import rosen, rosen_der\n",
    "x0 = [1.3, 0.7, 0.8, 1.9, 1.2]\n",
    "res = ipopt.minimize_ipopt(rosen, x0, jac=rosen_der)\n",
    "print(res)"
   ]
  },
  {
   "cell_type": "code",
   "execution_count": null,
   "id": "1de450e1",
   "metadata": {},
   "outputs": [],
   "source": [
    "# Simulation variables\n",
    "N = 50\n",
    "dt = 0.1\n",
    "ns = 6\n",
    "nu = 3\n",
    "\n",
    "# Cost matrices\n",
    "Qvec = 3*np.ones(ns)\n",
    "Rvec = 1*np.ones(nu)\n",
    "Qfvec = 10*np.ones(ns)\n",
    "\n",
    "# Problem Definition\n",
    "s0 = np.zeros(6)\n",
    "sf = np.zeros(6)\n",
    "sf[0] = 5\n",
    "sf[1] = 5\n",
    "sf[2] = np.pi/2\n",
    "\n",
    "# obstacles\n",
    "num_obstacles = 2\n",
    "obstacles = np.zeros((num_obstacles, 3))\n",
    "obstacles[0] = [3, 3, 1]\n",
    "obstacles[1] = [8, 8, 1]"
   ]
  },
  {
   "cell_type": "code",
   "execution_count": null,
   "id": "72e7a8cd",
   "metadata": {},
   "outputs": [],
   "source": [
    "model = VesselModel(mismatch=False)\n",
    "trajoptimizer = TrajOpt(model, N, ns, nu, dt, Qvec, Rvec, Qfvec, s0, sf, obstacles)\n",
    "trajoptimizer.exec_trajopt()"
   ]
  },
  {
   "cell_type": "code",
   "execution_count": null,
   "id": "ba4e82fa",
   "metadata": {},
   "outputs": [],
   "source": [
    "print(trajoptimizer.sol)\n",
    "S, U = trajoptimizer.flat2vec(trajoptimizer.sol.x)\n",
    "print(np.max(U))\n",
    "ps = S.T\n",
    "\n",
    "np.savetxt(\"dircol_soln.csv\", S, delimiter=\",\")\n",
    "np.savetxt(\"dircol_inpu.csv\", U, delimiter=\",\")\n",
    "\n",
    "fig, axes = plt.subplots(1, 1, figsize=(20, 20))\n",
    "for obstacle in obstacles:\n",
    "    obs_x, obs_y, obs_r = obstacle\n",
    "    circle = plt.Circle((obs_y, obs_x), obs_r, color='r')\n",
    "    axes.add_patch(circle)\n",
    "axes.scatter(ps[1], ps[0])\n",
    "for i in range(len(ps[1])):\n",
    "    dx = 0.5*np.cos(ps[2,i])\n",
    "    dy = 0.5*np.sin(ps[2,i])\n",
    "    axes.arrow(ps[1,i], ps[0, i], dy, dx, head_width=0.05, head_length=0.1, fc='green', ec='green')\n",
    "axes.set_aspect('equal', adjustable='box')\n",
    "plt.show()\n",
    "\n",
    "Sfwd = np.zeros((N,ns))\n",
    "Sfwd[0] = S[0]\n",
    "for i in range(N-1):\n",
    "    Sn = Sfwd[i]\n",
    "    Un = U[i]\n",
    "    Sfwd[i+1] = model.rk4(Sn, Un, dt)\n",
    "\n",
    "ps = Sfwd.T\n",
    "fig, axes = plt.subplots(1, 1, figsize=(20, 20))\n",
    "for obstacle in obstacles:\n",
    "    obs_x, obs_y, obs_r = obstacle\n",
    "    circle = plt.Circle((obs_y, obs_x), obs_r, color='r')\n",
    "    axes.add_patch(circle)\n",
    "axes.scatter(ps[1], ps[0])\n",
    "axes.set_aspect('equal', adjustable='box')\n",
    "plt.show()"
   ]
  },
  {
   "cell_type": "code",
   "execution_count": null,
   "id": "f0d9e78c",
   "metadata": {},
   "outputs": [],
   "source": [
    "Sn = np.zeros(6)\n",
    "Un = np.zeros(3)\n",
    "Un[0] = 5\n",
    "Un[1] = 5\n",
    "\n",
    "S = np.zeros((N, ns))\n",
    "S[0] = Sn\n",
    "\n",
    "U = np.zeros((N-1, nu))\n",
    "for i in range(N-1):\n",
    "    U[i] = [40*np.sin(dt*i),np.cos(dt*i),np.cos(dt*i)]\n",
    "\n",
    "for i in range(N-1):\n",
    "    S[i+1] = model.rk4(S[i], U[i], dt)\n",
    "\n",
    "ps = list(zip(*S))\n",
    "fig, axes = plt.subplots(1, 1, figsize=(20, 5))\n",
    "axes.scatter(ps[0], ps[1])\n",
    "plt.show()"
   ]
  }
 ],
 "metadata": {
  "kernelspec": {
   "display_name": "hsl-test",
   "language": "python",
   "name": "python3"
  },
  "language_info": {
   "codemirror_mode": {
    "name": "ipython",
    "version": 3
   },
   "file_extension": ".py",
   "mimetype": "text/x-python",
   "name": "python",
   "nbconvert_exporter": "python",
   "pygments_lexer": "ipython3",
   "version": "3.13.5"
  }
 },
 "nbformat": 4,
 "nbformat_minor": 5
}
