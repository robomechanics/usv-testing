{
 "cells": [
  {
   "cell_type": "code",
   "execution_count": null,
   "id": "aea1be32",
   "metadata": {},
   "outputs": [],
   "source": [
    "import matplotlib.pyplot as plt\n",
    "import numpy as np\n",
    "\n",
    "from vessel_models import VesselModel\n",
    "from controller import TrajOpt"
   ]
  },
  {
   "cell_type": "code",
   "execution_count": null,
   "id": "93203353",
   "metadata": {},
   "outputs": [],
   "source": [
    "# Simulation variables\n",
    "N = 100\n",
    "dt = 0.1\n",
    "ns = 6\n",
    "nu = 3\n",
    "\n",
    "# Cost matrices\n",
    "Qvec = 3*np.ones(ns)\n",
    "Rvec = 0.1*np.ones(nu)\n",
    "Qfvec = 10*np.ones(ns)\n",
    "\n",
    "# Problem Definition\n",
    "s0 = np.zeros(6)\n",
    "sf = np.zeros(6)\n",
    "sf[0] = 1\n",
    "sf[1] = 1\n",
    "sf[2] = np.pi/2\n",
    "\n",
    "# obstacles\n",
    "num_obstacles = 2\n",
    "obstacles = np.zeros((num_obstacles,3))\n",
    "obstacles[0] = [0.25, 0.25, 0.1]\n",
    "obstacles[1] = [0.75, 0.75, 0.1]\n",
    "\n",
    "model = VesselModel(mismatch=False)\n",
    "trajoptimizer = TrajOpt(model, N, ns, nu, dt, Qvec, Rvec, Qfvec, s0, sf, obstacles)\n",
    "trajoptimizer.exec_trajopt()"
   ]
  }
 ],
 "metadata": {
  "language_info": {
   "name": "python"
  }
 },
 "nbformat": 4,
 "nbformat_minor": 5
}
