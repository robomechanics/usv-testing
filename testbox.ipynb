{
 "cells": [
  {
   "cell_type": "code",
   "execution_count": 2,
   "id": "52134bb2",
   "metadata": {},
   "outputs": [],
   "source": [
    "import numpy as np\n",
    "import time"
   ]
  },
  {
   "cell_type": "code",
   "execution_count": 3,
   "id": "adf8ab71",
   "metadata": {},
   "outputs": [
    {
     "name": "stdout",
     "output_type": "stream",
     "text": [
      "(6,)\n",
      "(100, 6)\n",
      "[[1. 0. 0. 0. 0. 0.]\n",
      " [0. 1. 0. 0. 0. 0.]\n",
      " [0. 0. 1. 0. 0. 0.]\n",
      " [0. 0. 0. 1. 0. 0.]\n",
      " [0. 0. 0. 0. 1. 0.]\n",
      " [0. 0. 0. 0. 0. 1.]]\n",
      "[1. 1. 1. 1. 1. 1.]\n",
      "(100, 6)\n",
      "Time for for loop: 0.00032217 seconds\n",
      "63.355628331307585\n",
      "Time for matrix trace: 0.00013483 seconds\n",
      "63.355628331307585\n",
      "Time for row dot product: 0.00007296 seconds\n",
      "63.355628331307585\n"
     ]
    }
   ],
   "source": [
    "N = 100\n",
    "ns = 6\n",
    "\n",
    "Sf = np.random.rand(ns)\n",
    "print(np.shape(Sf))\n",
    "\n",
    "S = np.random.rand(N, ns)\n",
    "print(np.shape(S))\n",
    "\n",
    "Q = np.eye(ns)\n",
    "print(Q)\n",
    "\n",
    "Qflat = np.ones(ns)\n",
    "print(Qflat)\n",
    "\n",
    "print(np.shape(S-Sf))\n",
    "\n",
    "start = time.perf_counter()\n",
    "cost = 0\n",
    "for i in range(N):\n",
    "    Sn = S[i]\n",
    "    cost += 0.5 * (Sn-Sf) @ Q @ (Sn-Sf)\n",
    "end = time.perf_counter()\n",
    "elapsed = end-start\n",
    "print(f\"Time for for loop: {elapsed:.8f} seconds\")\n",
    "print(cost)\n",
    "\n",
    "start = time.perf_counter()\n",
    "cost2 = 0.5 * np.trace((S-Sf) @ Q @ (S-Sf).T)\n",
    "end = time.perf_counter()\n",
    "elapsed = end-start\n",
    "print(f\"Time for matrix trace: {elapsed:.8f} seconds\")\n",
    "print(cost2)\n",
    "\n",
    "start = time.perf_counter()\n",
    "cost3 = np.sum(0.5 * np.vecdot((S-Sf), np.multiply(Qflat, S-Sf)))\n",
    "end = time.perf_counter()\n",
    "elapsed = end-start\n",
    "print(f\"Time for row dot product: {elapsed:.8f} seconds\")\n",
    "print(cost3)\n",
    "\n",
    "assert abs(cost - cost2) < 1e-8, \"Cost2 not equal to cost\"\n",
    "assert abs(cost - cost3) < 1e-8, \"Cost3 not equal to cost\""
   ]
  },
  {
   "cell_type": "code",
   "execution_count": 6,
   "id": "ad5deec8",
   "metadata": {},
   "outputs": [
    {
     "name": "stdout",
     "output_type": "stream",
     "text": [
      "[[ 0.  1.  2.]\n",
      " [ 3.  4.  5.]\n",
      " [ 6.  7.  8.]\n",
      " [ 9. 10. 11.]]\n",
      "[[ 0.  1.  2.]\n",
      " [ 3.  4.  5.]\n",
      " [ 6.  7.  8.]\n",
      " [ 9. 10. 11.]]\n",
      "[  5.  50. 149. 302.]\n",
      "[  1.  16.  49. 100.]\n",
      "[[0. 1. 2.]\n",
      " [3. 4. 5.]]\n"
     ]
    }
   ],
   "source": [
    "a = np.arange(12.0).reshape((4,3))\n",
    "b = np.arange(12.0).reshape((4,3))\n",
    "print(a)\n",
    "print(b)\n",
    "print(np.vecdot(a,b))\n",
    "c = np.arange(3)\n",
    "np.multiply(a, c)\n",
    "\n",
    "print(a[:,1]**2)\n",
    "print(a[0:2])\n"
   ]
  },
  {
   "cell_type": "code",
   "execution_count": 5,
   "id": "625e9c8d",
   "metadata": {},
   "outputs": [
    {
     "data": {
      "text/plain": [
       "array([[0., 0., 0.],\n",
       "       [0., 0., 0.],\n",
       "       [0., 0., 0.],\n",
       "       [0., 0., 0.]])"
      ]
     },
     "execution_count": 5,
     "metadata": {},
     "output_type": "execute_result"
    }
   ],
   "source": [
    "a = np.arange(12.0).reshape((4,3))\n",
    "b = np.arange(12.0).reshape((4,3))\n",
    "a - b"
   ]
  }
 ],
 "metadata": {
  "kernelspec": {
   "display_name": "usv-project",
   "language": "python",
   "name": "python3"
  },
  "language_info": {
   "codemirror_mode": {
    "name": "ipython",
    "version": 3
   },
   "file_extension": ".py",
   "mimetype": "text/x-python",
   "name": "python",
   "nbconvert_exporter": "python",
   "pygments_lexer": "ipython3",
   "version": "3.13.3"
  }
 },
 "nbformat": 4,
 "nbformat_minor": 5
}
