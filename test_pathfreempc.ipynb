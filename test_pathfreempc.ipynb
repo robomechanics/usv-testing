{
 "cells": [
  {
   "cell_type": "code",
   "execution_count": null,
   "id": "cbe94e91",
   "metadata": {},
   "outputs": [],
   "source": [
    "import matplotlib.pyplot as plt\n",
    "import cyipopt as ipopt\n",
    "import numpy as np\n",
    "\n",
    "from vessel_models import VesselModel\n",
    "from controller import MPC"
   ]
  },
  {
   "cell_type": "code",
   "execution_count": null,
   "id": "72bc9c8e",
   "metadata": {},
   "outputs": [],
   "source": [
    "# Simulation variables\n",
    "N = 120\n",
    "dt = 0.5\n",
    "ns = 6\n",
    "nu = 3\n",
    "\n",
    "N_mpc = 30 # default 10\n",
    "N_sim = N + N_mpc\n",
    "\n",
    "# Cost matrices\n",
    "Qvec = 3*np.ones(ns) # default 3\n",
    "Rvec = 0.1*np.ones(nu)\n",
    "Qfvec = 10*np.ones(ns)\n",
    "\n",
    "# Initial and goal states\n",
    "sinit = np.array([0, 0, 0, 0, 0, 0])\n",
    "sgoal = np.array([10, 10, np.pi/2, 0, 0, 0])\n",
    "\n",
    "# Obstacle States\n",
    "num_obstacles = 1\n",
    "obstacles = np.zeros((num_obstacles,3))\n",
    "obstacles[0] = [5, 5, 2]\n",
    "\n",
    "model = VesselModel(mismatch=False)\n",
    "print(model.m)"
   ]
  },
  {
   "cell_type": "code",
   "execution_count": null,
   "id": "339df8c8",
   "metadata": {},
   "outputs": [],
   "source": [
    "U_soln = np.zeros((N-1, nu))\n",
    "S_soln = np.zeros((N, ns))\n",
    "S_soln[0] = sinit\n",
    "\n",
    "for i in range(N-1):\n",
    "    s0 = S_soln[i]\n",
    "    sf = sgoal\n",
    "    sref = sgoal\n",
    "    trajoptimizer = MPC(model, N_mpc, ns, nu, dt, Qvec, Rvec, Qfvec, s0, sf, sref, obstacles)\n",
    "    trajoptimizer.exec_MPC(version=\"without_traj\")\n",
    "    S, U = trajoptimizer.flat2vec(trajoptimizer.sol.x)\n",
    "    U_soln[i] = U[0]\n",
    "    S_soln[i+1] = model.rk4(s0, U[0], dt)"
   ]
  },
  {
   "cell_type": "code",
   "execution_count": null,
   "id": "b298c63c",
   "metadata": {},
   "outputs": [],
   "source": [
    "Sfwd = np.zeros((N,ns))\n",
    "Sfwd[0] = sinit\n",
    "for i in range(N-1):\n",
    "    Sn = Sfwd[i]\n",
    "    Un = U_soln[i]\n",
    "    Sfwd[i+1] = model.rk4(Sn, Un, dt)\n",
    "\n",
    "ps = Sfwd.T\n",
    "ps_soln = S_soln.T\n",
    "fig, axes = plt.subplots(1, 1, figsize=(20, 20))\n",
    "\n",
    "for obstacle in obstacles:\n",
    "    obs_x, obs_y, obs_r = obstacle\n",
    "    circle = plt.Circle((obs_y, obs_x), obs_r, color='r')\n",
    "    axes.add_patch(circle)\n",
    "\n",
    "for i in range(len(ps[1])):\n",
    "    dx = 0.01*np.cos(ps[2,i])\n",
    "    dy = 0.01*np.sin(ps[2,i])\n",
    "    axes.arrow(ps[1,i], ps[0, i], dy, dx, head_width=0.005, head_length=0.005, fc='green', ec='green')\n",
    "\n",
    "axes.scatter(ps_soln[1], ps_soln[0])\n",
    "axes.scatter(ps[1], ps[0])\n",
    "axes.set_aspect('equal', adjustable='box')\n",
    "plt.show()"
   ]
  }
 ],
 "metadata": {
  "kernelspec": {
   "display_name": "hsl-test",
   "language": "python",
   "name": "python3"
  },
  "language_info": {
   "codemirror_mode": {
    "name": "ipython",
    "version": 3
   },
   "file_extension": ".py",
   "mimetype": "text/x-python",
   "name": "python",
   "nbconvert_exporter": "python",
   "pygments_lexer": "ipython3",
   "version": "3.13.5"
  }
 },
 "nbformat": 4,
 "nbformat_minor": 5
}
